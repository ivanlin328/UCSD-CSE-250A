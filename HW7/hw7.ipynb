{
 "cells": [
  {
   "cell_type": "code",
   "execution_count": 89,
   "metadata": {},
   "outputs": [],
   "source": [
    "import numpy as np"
   ]
  },
  {
   "cell_type": "code",
   "execution_count": 90,
   "metadata": {},
   "outputs": [
    {
     "name": "stdout",
     "output_type": "stream",
     "text": [
      "(525, 60)\n"
     ]
    }
   ],
   "source": [
    "#load_data\n",
    "movie=[]\n",
    "std=[]\n",
    "with open (\"/Users/ivanlin328/Desktop/CSE 250A/HW7/hw7_movies.txt\",'r') as movies:\n",
    "    for line in movies.readlines():\n",
    "        movie.append(line.strip())\n",
    "with open (\"/Users/ivanlin328/Desktop/CSE 250A/HW7/hw7_ids.txt\",'r') as students:\n",
    "    for line in students.readlines():\n",
    "        std.append(line.strip())\n",
    "\n",
    "ratings=np.loadtxt(\"/Users/ivanlin328/Desktop/CSE 250A/HW7/hw7_ratings.txt\",dtype='str')\n",
    "print(ratings.shape)"
   ]
  },
  {
   "cell_type": "code",
   "execution_count": 91,
   "metadata": {},
   "outputs": [
    {
     "name": "stdout",
     "output_type": "stream",
     "text": [
      "                                               Movies  Popularity ratings\n",
      "0                                        Interstellar            0.948187\n",
      "1                                     The Dark Knight            0.941358\n",
      "2                                          The Matrix            0.940120\n",
      "3                                           Inception            0.935976\n",
      "4                                              WALL-E            0.923483\n",
      "5                                Jurassic Park (1993)            0.916084\n",
      "6                                  The Imitation Game            0.910569\n",
      "7                             Guardians of the Galaxy            0.907609\n",
      "8                                      Doctor Strange            0.900000\n",
      "9                             The Wolf of Wall Street            0.898990\n",
      "10                             Avengers: Infinity War            0.891304\n",
      "11                                        The Martian            0.888489\n",
      "12  The Lord of the Rings: The Fellowship of the Ring            0.879433\n",
      "13       Harry Potter and the Deathly Hallows: Part 2            0.870712\n",
      "14                      Mission: Impossible - Fallout            0.865900\n",
      "15                                       Terminator 2            0.856436\n",
      "16                                       The Avengers            0.855769\n",
      "17                                         La La Land            0.855019\n",
      "18                                              Logan            0.850746\n",
      "19                                         Deadpool 2            0.842282\n",
      "20                                      Black Panther            0.838275\n",
      "21                                   The Hunger Games            0.836512\n",
      "22                                               Coco            0.834559\n",
      "23                              2001: A Space Odyssey            0.827586\n",
      "24                                  Blade Runner 2049            0.822485\n",
      "25                         Captain America: Civil War            0.821429\n",
      "26                                           Zootopia            0.808786\n",
      "27                                              Moana            0.808664\n",
      "28                     Guardians of the Galaxy Vol. 2            0.803681\n",
      "29                                            Get Out            0.802139\n",
      "30                               The Greatest Showman            0.795455\n",
      "31                                         Iron Man 3            0.793478\n",
      "32                                             Frozen            0.777506\n",
      "33                                     Thor: Ragnarok            0.776435\n",
      "34                      Star Wars: The Phantom Menace            0.751020\n",
      "35                                              Venom            0.728814\n",
      "36                                               Tron            0.726667\n",
      "37                                     Jurassic World            0.725434\n",
      "38                                         Ex Machina            0.725000\n",
      "39                                     The Lego Movie            0.713311\n",
      "40                                           Oceans 8            0.692857\n",
      "41            Fantastic Beasts and Where To Find Them            0.691525\n",
      "42                                          Rogue One            0.690355\n",
      "43                                       Man of Steel            0.687764\n",
      "44                                 Mad Max: Fury Road            0.684211\n",
      "45                     Jumanji: Welcome to the Jungle            0.664032\n",
      "46                                        World War Z            0.644809\n",
      "47                                                 It            0.635071\n",
      "48                                 Terminator Genisys            0.632479\n",
      "49                                   Star Trek Beyond            0.625000\n",
      "50                                 The Shape of Water            0.620690\n",
      "51                                          Furious 7            0.618026\n",
      "52                                       Wonder Woman            0.600000\n",
      "53                           Star Wars: The Last Jedi            0.591078\n",
      "54                               Ant-Man and the Wasp            0.588435\n",
      "55                                               Solo            0.557692\n",
      "56                                      Suicide Squad            0.520295\n",
      "57                 Batman v Superman: Dawn of Justice            0.496124\n",
      "58                                 The Last Airbender            0.458515\n",
      "59                                     Justice League            0.415525\n"
     ]
    }
   ],
   "source": [
    "import pandas as pd\n",
    "rating=np.zeros(ratings.shape[1])\n",
    "for i in range(ratings.shape[1]):\n",
    "    count1=0\n",
    "    count2=0\n",
    "    for j in range(ratings.shape[0]):\n",
    "        if ratings[j,i]!='?':\n",
    "            count2+=1\n",
    "            if ratings[j,i]==\"1\":\n",
    "                count1+=1     \n",
    "    if count2>0:\n",
    "        ratio=count1/count2\n",
    "        rating[i]=ratio\n",
    "data=pd.DataFrame({\"Movies\": movie,\"Popularity ratings\":rating})\n",
    "data=data.sort_values(by=\"Popularity ratings\",ascending=False)\n",
    "data=data.reset_index(drop=True)\n",
    "print(data)"
   ]
  },
  {
   "cell_type": "code",
   "execution_count": 92,
   "metadata": {},
   "outputs": [
    {
     "name": "stdout",
     "output_type": "stream",
     "text": [
      "4\n",
      "(60, 4)\n"
     ]
    }
   ],
   "source": [
    "prob_z= np.loadtxt(\"/Users/ivanlin328/Desktop/CSE 250A/HW7/hw7_probZ_init.txt\",dtype=float)\n",
    "prob_r=np.loadtxt(\"/Users/ivanlin328/Desktop/CSE 250A/HW7/hw7_probR_init.txt\")\n",
    "print(prob_z.shape[0])\n",
    "print(prob_r.shape)"
   ]
  },
  {
   "cell_type": "code",
   "execution_count": 93,
   "metadata": {},
   "outputs": [],
   "source": [
    "def likelihood(t, prob_z, prob_r,k):\n",
    "    likeli = 0\n",
    "    for i in range(k):\n",
    "        j_rec = np.asarray(ratings[t, :] == \"1\").nonzero()  \n",
    "        j_notrec = np.asarray(ratings[t, :] == \"0\").nonzero()\n",
    "        likeli += prob_z[i] * np.prod(prob_r[j_rec, i]) * np.prod(1 - prob_r[j_notrec, i])\n",
    "    return likeli\n",
    "\n",
    "def log_likelihood(prob_z, prob_r,k):\n",
    "    log_likeli = 0\n",
    "    T = ratings.shape[0]\n",
    "    for t in range(T):\n",
    "        user_likelihood = likelihood(t, prob_z, prob_r, k)\n",
    "        log_likeli += np.log(user_likelihood)\n",
    "    return log_likeli / T\n",
    " "
   ]
  },
  {
   "cell_type": "code",
   "execution_count": 94,
   "metadata": {},
   "outputs": [],
   "source": [
    "def estep_numerator(i, t, prob_z, prob_r, ratings):\n",
    "    j_rec = np.asarray(ratings[t, :] == \"1\").nonzero()\n",
    "    j_notrec = np.asarray(ratings[t, :] == \"0\").nonzero()\n",
    "    return prob_z[i] * np.prod(prob_r[j_rec, i]) * np.prod(1 - prob_r[j_notrec, i])\n",
    "  \n",
    "def estep_denominator(t, prob_z, prob_r, ratings, k):\n",
    "    denom = 0\n",
    "    j_rec = np.asarray(ratings[t, :] == \"1\").nonzero()\n",
    "    j_notrec = np.asarray(ratings[t, :] == \"0\").nonzero()   \n",
    "    for i in range(k):\n",
    "        denom += prob_z[i] * np.prod(prob_r[j_rec, i]) * np.prod(1 - prob_r[j_notrec, i])\n",
    "    return denom\n"
   ]
  },
  {
   "cell_type": "code",
   "execution_count": 95,
   "metadata": {},
   "outputs": [],
   "source": [
    "def m_step_prob_r(i,j,posteriors,prob_r):\n",
    "    #seen part\n",
    "    t_seen=np.asarray(ratings[:,j] == \"1\").nonzero()\n",
    "    sum_seen= np.sum(posteriors[i,t_seen])\n",
    "    #unseen part\n",
    "    t_unseen=np.asarray(ratings[:,j] == \"?\").nonzero()\n",
    "    sum_unseen=np.sum(posteriors[i,t_unseen])*prob_r[j,i]\n",
    "    return sum_seen+sum_unseen\n",
    "    "
   ]
  },
  {
   "cell_type": "code",
   "execution_count": 96,
   "metadata": {},
   "outputs": [
    {
     "name": "stdout",
     "output_type": "stream",
     "text": [
      "[0, 1, 2, 4, 8, 16, 32, 64, 128, 256]\n",
      "[-28.092370113661485, -16.493378113831568, -14.561167073337495, -13.625096360195535, -13.23329988412404, -13.06644206787089, -12.99603729576008, -12.992546414601215, -12.992246667930614, -12.992232245896068]\n"
     ]
    }
   ],
   "source": [
    "# EM Algorithm\n",
    "N = 256\n",
    "target = [0, 1, 2, 4, 8, 16, 32, 64, 128, 256]\n",
    "toprint = []\n",
    "log_likelihoods = []\n",
    "T = ratings.shape[0]\n",
    "k = prob_z.shape[0]\n",
    "M = ratings.shape[1]\n",
    "posteriors = np.zeros([k,T], dtype=float)\n",
    "new_prob_z = np.zeros(k)\n",
    "new_prob_r = np.zeros([M,k])\n",
    "\n",
    "for i in range(N + 1):\n",
    "    if i in target:\n",
    "        toprint.append(i)\n",
    "        log_likelihoods.append(log_likelihood(prob_z, prob_r, k))\n",
    "    \n",
    "    for t in range(T):\n",
    "        e_denom = estep_denominator(t, prob_z, prob_r, ratings, k)\n",
    "        for i in range(k):\n",
    "            posteriors[i,t] = estep_numerator(i, t, prob_z, prob_r, ratings) / e_denom\n",
    "    \n",
    "    for i in range(k):\n",
    "        new_prob_z[i] = np.sum(posteriors[i,:]) / T\n",
    "        for j in range(M):\n",
    "            new_prob_r[j,i] = m_step_prob_r(i, j, posteriors, prob_r) / np.sum(posteriors[i,:])\n",
    "    \n",
    "    prob_z = new_prob_z.copy()  \n",
    "    prob_r = new_prob_r.copy()\n",
    "\n",
    "print(toprint)\n",
    "print(log_likelihoods)"
   ]
  },
  {
   "cell_type": "code",
   "execution_count": 97,
   "metadata": {},
   "outputs": [
    {
     "name": "stdout",
     "output_type": "stream",
     "text": [
      "Table:\n",
      "+------------+---------------------+\n",
      "| Iteration: |   Log-logliklihood  |\n",
      "+------------+---------------------+\n",
      "|     0      | -28.092370113661485 |\n",
      "|     1      | -16.493378113831568 |\n",
      "|     2      | -14.561167073337495 |\n",
      "|     4      | -13.625096360195535 |\n",
      "|     8      |  -13.23329988412404 |\n",
      "|     16     |  -13.06644206787089 |\n",
      "|     32     |  -12.99603729576008 |\n",
      "|     64     | -12.992546414601215 |\n",
      "|    128     | -12.992246667930614 |\n",
      "|    256     | -12.992232245896068 |\n",
      "+------------+---------------------+\n"
     ]
    }
   ],
   "source": [
    "from prettytable import PrettyTable\n",
    "print(\"Table:\")\n",
    "x=PrettyTable()\n",
    "x.add_column(\"Iteration:\",toprint)\n",
    "x.add_column(\"Log-logliklihood\",log_likelihoods)\n",
    "print(x)"
   ]
  },
  {
   "cell_type": "code",
   "execution_count": 98,
   "metadata": {},
   "outputs": [
    {
     "name": "stdout",
     "output_type": "stream",
     "text": [
      "72\n"
     ]
    }
   ],
   "source": [
    "studId=[]\n",
    "with open (\"/Users/ivanlin328/Desktop/CSE 250A/HW7/hw7_ids.txt\",'r') as id:\n",
    "    for line in id.readlines():\n",
    "        studId.append(line.strip())\n",
    "PID=\"A69036794\"\n",
    "for i in range(len(studId)):\n",
    "    if studId[i]==PID:\n",
    "        index=i\n",
    "print(index)"
   ]
  },
  {
   "cell_type": "code",
   "execution_count": 100,
   "metadata": {},
   "outputs": [
    {
     "name": "stdout",
     "output_type": "stream",
     "text": [
      "                   Movies  Popularity ratings\n",
      "0              The Matrix            0.916831\n",
      "1               Inception            0.895516\n",
      "2      The Imitation Game            0.874394\n",
      "3              La La Land            0.820911\n",
      "4                    Coco            0.794524\n",
      "5              Ex Machina            0.781116\n",
      "6   2001: A Space Odyssey            0.768758\n",
      "7       Blade Runner 2049            0.762830\n",
      "8                 Get Out            0.717651\n",
      "9                   Moana            0.679009\n",
      "10     Terminator Genisys            0.672817\n",
      "11           Man of Steel            0.664476\n",
      "12                   Tron            0.654687\n",
      "13     The Shape of Water            0.602985\n",
      "14              Rogue One            0.556266\n",
      "15            World War Z            0.545665\n",
      "16     The Last Airbender            0.531576\n",
      "17       Star Trek Beyond            0.528702\n",
      "18           Wonder Woman            0.520161\n",
      "19                   Solo            0.517823\n"
     ]
    }
   ],
   "source": [
    "my_data=ratings[index,:]\n",
    "my_unseen_data=np.asarray(my_data == \"?\").nonzero()[0]\n",
    "\n",
    "expected_ratings=[]\n",
    "unseen_movies=[]\n",
    "for l in my_unseen_data:\n",
    "    unseen_movies.append(movie[l])\n",
    "    expecting_rating=0\n",
    "    for i in range(k):\n",
    "        e_step= estep_numerator(i,index, prob_z, prob_r, ratings)/estep_denominator(index, prob_z, prob_r, ratings,k)\n",
    "        m_step= m_step_prob_r(i,l,posteriors,prob_r)/np.sum(posteriors[i,:])\n",
    "        expecting_rating+=e_step*m_step\n",
    "    expected_ratings.append(expecting_rating) \n",
    "      \n",
    "datas=pd.DataFrame({\"Movies\":unseen_movies ,\"Popularity ratings\":expected_ratings})\n",
    "datas=datas.sort_values(by=\"Popularity ratings\",ascending=False)\n",
    "datas=datas.reset_index(drop=True) \n",
    "print(datas)\n",
    "         \n",
    "        \n",
    "        \n",
    "    "
   ]
  }
 ],
 "metadata": {
  "kernelspec": {
   "display_name": "base",
   "language": "python",
   "name": "python3"
  },
  "language_info": {
   "codemirror_mode": {
    "name": "ipython",
    "version": 3
   },
   "file_extension": ".py",
   "mimetype": "text/x-python",
   "name": "python",
   "nbconvert_exporter": "python",
   "pygments_lexer": "ipython3",
   "version": "3.12.7"
  }
 },
 "nbformat": 4,
 "nbformat_minor": 2
}
