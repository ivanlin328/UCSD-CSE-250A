{
 "cells": [
  {
   "cell_type": "code",
   "execution_count": 179,
   "metadata": {},
   "outputs": [],
   "source": [
    "import numpy as np"
   ]
  },
  {
   "cell_type": "code",
   "execution_count": 180,
   "metadata": {},
   "outputs": [
    {
     "name": "stdout",
     "output_type": "stream",
     "text": [
      "(267, 23)\n"
     ]
    }
   ],
   "source": [
    "X=np.loadtxt(\"spectX-1.txt\")\n",
    "print(X.shape)"
   ]
  },
  {
   "cell_type": "code",
   "execution_count": 181,
   "metadata": {},
   "outputs": [
    {
     "name": "stdout",
     "output_type": "stream",
     "text": [
      "(267,)\n"
     ]
    }
   ],
   "source": [
    "Y=np.loadtxt(\"spectY-1.txt\")\n",
    "print(Y.shape)"
   ]
  },
  {
   "cell_type": "code",
   "execution_count": 182,
   "metadata": {},
   "outputs": [],
   "source": [
    "def loglikelihood(p,x):\n",
    "    temp=(1-p)**x\n",
    "    y_0 = np.prod(temp)\n",
    "    y_1 =1-y_0\n",
    "    return y_0,y_1"
   ]
  },
  {
   "cell_type": "code",
   "execution_count": 183,
   "metadata": {},
   "outputs": [],
   "source": [
    "def e_step(p,x,y):\n",
    "    numer=y*x*p\n",
    "    temp=(1-p)**x\n",
    "    deno=1-np.prod(temp)\n",
    "    \n",
    "    return numer/deno"
   ]
  },
  {
   "cell_type": "code",
   "execution_count": 184,
   "metadata": {},
   "outputs": [
    {
     "name": "stdout",
     "output_type": "stream",
     "text": [
      "[119.0, 66.0, 105.0, 76.0, 108.0, 63.0, 76.0, 114.0, 83.0, 101.0, 65.0, 79.0, 132.0, 81.0, 47.0, 83.0, 38.0, 35.0, 66.0, 86.0, 97.0, 110.0, 267.0]\n"
     ]
    }
   ],
   "source": [
    "Totalsample=[]\n",
    "for i in range(len(X[0])):\n",
    "    Totalsample.append(np.sum(X[:,i]))\n",
    "print(Totalsample)\n",
    "    "
   ]
  },
  {
   "cell_type": "code",
   "execution_count": 187,
   "metadata": {},
   "outputs": [
    {
     "name": "stdout",
     "output_type": "stream",
     "text": [
      "[0, 1, 2, 4, 8, 16, 32, 64, 128, 256]\n",
      "[175, 56, 43, 42, 44, 40, 37, 37, 36, 36]\n",
      "[-0.9580854082157906, -0.49591639407753624, -0.40822081705839147, -0.3646149825001872, -0.34750061620878225, -0.33461704895854844, -0.3225814031674978, -0.31482669836285615, -0.3111558472151895, -0.31016135347407586]\n"
     ]
    }
   ],
   "source": [
    "p=np.array([0.05]*X.shape[1])\n",
    "toprint=[]\n",
    "k=0\n",
    "mistakes=[]\n",
    "loglikehoods=[]\n",
    "target=[0,1,2,4,8,16,32,64,128,256]\n",
    "N=256\n",
    "for i in range(N+1):\n",
    "    mistake = 0\n",
    "    loglikeli=0\n",
    "    estep=0\n",
    "    for j in range(X.shape[0]):\n",
    "        y0,y1=loglikelihood(p,X[j])\n",
    "        y=Y[j]\n",
    "        if y==1:\n",
    "            hood=y1\n",
    "            if y1<0.5:\n",
    "                mistake+=1\n",
    "        if y==0:\n",
    "            hood=y0\n",
    "            if y1>0.5:\n",
    "                mistake+=1\n",
    "        loglikeli+=np.log(hood)/X.shape[0]\n",
    "        estep+=e_step(p,X[j],y)\n",
    "    p=estep/Totalsample  \n",
    "    if i in target:\n",
    "        toprint.append(i)\n",
    "        mistakes.append(mistake)\n",
    "        loglikehoods.append(loglikeli)\n",
    "print(toprint)\n",
    "print(mistakes)   \n",
    "print( loglikehoods)   \n",
    "        "
   ]
  },
  {
   "cell_type": "code",
   "execution_count": 192,
   "metadata": {},
   "outputs": [
    {
     "name": "stdout",
     "output_type": "stream",
     "text": [
      "Table:\n",
      "+-----------+--------------+----------------------+\n",
      "| Iteration | # Mistakes M |   log-Likelihood L   |\n",
      "+-----------+--------------+----------------------+\n",
      "|     0     |     175      | -0.9580854082157906  |\n",
      "|     1     |      56      | -0.49591639407753624 |\n",
      "|     2     |      43      | -0.40822081705839147 |\n",
      "|     4     |      42      | -0.3646149825001872  |\n",
      "|     8     |      44      | -0.34750061620878225 |\n",
      "|     16    |      40      | -0.33461704895854844 |\n",
      "|     32    |      37      | -0.3225814031674978  |\n",
      "|     64    |      37      | -0.31482669836285615 |\n",
      "|    128    |      36      | -0.3111558472151895  |\n",
      "|    256    |      36      | -0.31016135347407586 |\n",
      "+-----------+--------------+----------------------+\n"
     ]
    }
   ],
   "source": [
    "from prettytable import PrettyTable\n",
    "print(\"Table:\")\n",
    "x = PrettyTable()\n",
    "x.add_column(\"Iteration\", toprint)\n",
    "x.add_column(\"# Mistakes M\", mistakes)\n",
    "x.add_column(\"log-Likelihood L\", loglikehoods)\n",
    "print(x)"
   ]
  }
 ],
 "metadata": {
  "kernelspec": {
   "display_name": "base",
   "language": "python",
   "name": "python3"
  },
  "language_info": {
   "codemirror_mode": {
    "name": "ipython",
    "version": 3
   },
   "file_extension": ".py",
   "mimetype": "text/x-python",
   "name": "python",
   "nbconvert_exporter": "python",
   "pygments_lexer": "ipython3",
   "version": "3.12.2"
  }
 },
 "nbformat": 4,
 "nbformat_minor": 2
}
